{
 "cells": [
  {
   "cell_type": "code",
   "execution_count": 1,
   "metadata": {},
   "outputs": [],
   "source": [
    "import requests\n",
    "import pandas as pd\n",
    "import matplotlib.pyplot as plt\n",
    "import numpy as np\n",
    "from time import sleep\n",
    "from project import api_key\n",
    "from project import email"
   ]
  },
  {
   "cell_type": "code",
   "execution_count": 2,
   "metadata": {
    "scrolled": true
   },
   "outputs": [],
   "source": [
    "list_state = ['48', '36', '06']\n",
    "df = pd.DataFrame()\n",
    "for state in list_state:\n",
    "    try:\n",
    "        url_quarterly = 'https://aqs.epa.gov/data/api/quarterlyData/byState?'\n",
    "        params = {'email': email,\n",
    "                 'key': api_key,\n",
    "                 'param': '88101',\n",
    "                 'bdate':'20200101',\n",
    "                 'edate':'20201201',\n",
    "                 'state': state}\n",
    "\n",
    "        response_quarterly = requests.get(url_quarterly, params=params).json()\n",
    "        data_quarterly =response_quarterly['Data']\n",
    "        int_df = pd.DataFrame(data_quarterly)\n",
    "        df = df.append(int_df)\n",
    "        sleep(5)\n",
    "    except:\n",
    "        print('Oops something went wrong')\n",
    "        pass"
   ]
  },
  {
   "cell_type": "code",
   "execution_count": 3,
   "metadata": {},
   "outputs": [
    {
     "name": "stdout",
     "output_type": "stream",
     "text": [
      "['state_code', 'county_code', 'site_number', 'parameter_code', 'poc', 'latitude', 'longitude', 'datum', 'parameter', 'sample_duration', 'sample_duration_code', 'sample_duration_type', 'pollutant_standard', 'year', 'quarter', 'units_of_measure', 'event_type', 'observation_count', 'observation_percent', 'arithmetic_mean', 'minimum_value', 'maximum_value', 'quarterly_criteria_met', 'actual_days_gt_std', 'estimated_days_gt_std', 'valid_samples', 'valid_day_count', 'scheduled_samples', 'percent_days', 'percent_one_value', 'monitoring_agency_code', 'monitoring_agency', 'local_site_name', 'address', 'state', 'county', 'city', 'tribal_code', 'tribal_land', 'cbsa_code', 'cbsa', 'date_of_last_change']\n"
     ]
    }
   ],
   "source": [
    "print(df.columns.tolist())"
   ]
  },
  {
   "cell_type": "code",
   "execution_count": 4,
   "metadata": {},
   "outputs": [],
   "source": [
    "df.to_csv('Air Quality.csv')"
   ]
  },
  {
   "cell_type": "code",
   "execution_count": 5,
   "metadata": {},
   "outputs": [],
   "source": [
    "df = df.loc[df['pollutant_standard']=='PM25 Annual 2012']"
   ]
  },
  {
   "cell_type": "code",
   "execution_count": 6,
   "metadata": {},
   "outputs": [],
   "source": [
    "df = df.loc[((df['event_type'] == 'No Events') | (df['event_type']=='Events Excluded'))]"
   ]
  },
  {
   "cell_type": "code",
   "execution_count": 7,
   "metadata": {},
   "outputs": [
    {
     "name": "stdout",
     "output_type": "stream",
     "text": [
      "['4' '3' '2' '1']\n"
     ]
    }
   ],
   "source": [
    "print(pd.unique(df['quarter']))"
   ]
  },
  {
   "cell_type": "code",
   "execution_count": 8,
   "metadata": {},
   "outputs": [
    {
     "name": "stdout",
     "output_type": "stream",
     "text": [
      "23       3.3791\n",
      "58       8.4989\n",
      "83       6.5571\n",
      "110      8.0899\n",
      "138      8.7119\n",
      "         ...   \n",
      "4556     4.9644\n",
      "4584     7.0791\n",
      "4612     4.3148\n",
      "4640     4.0934\n",
      "4668    11.3422\n",
      "Name: arithmetic_mean, Length: 231, dtype: float64\n"
     ]
    }
   ],
   "source": [
    "q1_df = df.loc[df['quarter']== '1']\n",
    "q2_df = df.loc[df['quarter']== '2']\n",
    "q3_df = df.loc[df['quarter']== '3']\n",
    "q4_df = df.loc[df['quarter']== '4']\n",
    "\n",
    "print(q1_df['arithmetic_mean'])"
   ]
  },
  {
   "cell_type": "code",
   "execution_count": 9,
   "metadata": {},
   "outputs": [
    {
     "data": {
      "image/png": "[encoded data removed]",
      "text/plain": [
       "<Figure size 720x432 with 1 Axes>"
      ]
     },
     "metadata": {
      "needs_background": "light"
     },
     "output_type": "display_data"
    }
   ],
   "source": [
    "q1_df = q1_df.dropna(subset=['arithmetic_mean'])\n",
    "q2_df = q2_df.dropna(subset=['arithmetic_mean'])\n",
    "\n",
    "data_to_plot = [q1_df['arithmetic_mean'], q2_df['arithmetic_mean'], q3_df['arithmetic_mean'], q4_df['arithmetic_mean']]\n",
    "plt.figure(figsize=(10, 6))\n",
    "box = plt.boxplot(data_to_plot,\n",
    "                  positions=[1, 2, 3, 4],\n",
    "                  labels=['Q1', 'Q2', 'Q3', 'Q4'])\n",
    "plt.title('PM2.5 Concentrations Across Quarters')\n",
    "plt.ylabel('Microgram/Cubic Meter')\n",
    "plt.xlabel('Quarter')\n",
    "plt.savefig('PM2.5 Concentrations Across Quarters Box.png')"
   ]
  },
  {
   "cell_type": "code",
   "execution_count": 15,
   "metadata": {},
   "outputs": [
    {
     "name": "stdout",
     "output_type": "stream",
     "text": [
      "5.97955 7.3655 9.753549999999999\n"
     ]
    }
   ],
   "source": [
    "q1_25 = np.quantile( q1_df['arithmetic_mean'], .25)\n",
    "q1_median = np.quantile( q1_df['arithmetic_mean'], .5)\n",
    "q1_75 = np.quantile( q1_df['arithmetic_mean'], .75)\n",
    "print(q1_25, q2_median, q1_75)"
   ]
  },
  {
   "cell_type": "code",
   "execution_count": 18,
   "metadata": {},
   "outputs": [
    {
     "name": "stdout",
     "output_type": "stream",
     "text": [
      "5.1873249999999995 6.76845 8.90785\n"
     ]
    }
   ],
   "source": [
    "q2_25 = np.quantile( q2_df['arithmetic_mean'], .25)\n",
    "q2_median = np.quantile( q2_df['arithmetic_mean'], .5)\n",
    "q2_75 = np.quantile( q2_df['arithmetic_mean'], .75)\n",
    "print(q2_25, q2_median, q2_75)"
   ]
  },
  {
   "cell_type": "code",
   "execution_count": 17,
   "metadata": {},
   "outputs": [
    {
     "name": "stdout",
     "output_type": "stream",
     "text": [
      "10.021425 12.7402 18.25275\n"
     ]
    }
   ],
   "source": [
    "q3_25 = np.quantile(q3_df['arithmetic_mean'], .25)\n",
    "q3_median = np.quantile(q3_df['arithmetic_mean'], .5)\n",
    "q3_75 = np.quantile(q3_df['arithmetic_mean'], .75)\n",
    "print(q3_25, q3_median, q3_75)"
   ]
  },
  {
   "cell_type": "code",
   "execution_count": 16,
   "metadata": {},
   "outputs": [
    {
     "name": "stdout",
     "output_type": "stream",
     "text": [
      "7.413 10.0 15.2929\n"
     ]
    }
   ],
   "source": [
    "q4_25 = np.quantile(q4_df['arithmetic_mean'], .25)\n",
    "q4_median = np.quantile(q4_df['arithmetic_mean'], .5)\n",
    "q4_75 = np.quantile(q4_df['arithmetic_mean'], .75)\n",
    "print(q4_25, q4_median, q4_75)"
   ]
  },
  {
   "cell_type": "code",
   "execution_count": 19,
   "metadata": {},
   "outputs": [
    {
     "data": {
      "text/plain": [
       "8.027275652173914"
      ]
     },
     "execution_count": 19,
     "metadata": {},
     "output_type": "execute_result"
    }
   ],
   "source": [
    "q1_mean = q1_df['arithmetic_mean'].mean()\n",
    "q1_mean"
   ]
  },
  {
   "cell_type": "code",
   "execution_count": 20,
   "metadata": {},
   "outputs": [
    {
     "data": {
      "text/plain": [
       "7.145295575221235"
      ]
     },
     "execution_count": 20,
     "metadata": {},
     "output_type": "execute_result"
    }
   ],
   "source": [
    "q2_mean = q2_df['arithmetic_mean'].mean()\n",
    "q2_mean"
   ]
  },
  {
   "cell_type": "code",
   "execution_count": 21,
   "metadata": {},
   "outputs": [
    {
     "data": {
      "text/plain": [
       "14.718112608695654"
      ]
     },
     "execution_count": 21,
     "metadata": {},
     "output_type": "execute_result"
    }
   ],
   "source": [
    "q3_mean = q3_df['arithmetic_mean'].mean()\n",
    "q3_mean"
   ]
  },
  {
   "cell_type": "code",
   "execution_count": 22,
   "metadata": {},
   "outputs": [
    {
     "data": {
      "text/plain": [
       "12.029293775933613"
      ]
     },
     "execution_count": 22,
     "metadata": {},
     "output_type": "execute_result"
    }
   ],
   "source": [
    "q4_mean = q4_df['arithmetic_mean'].mean()\n",
    "q4_mean"
   ]
  },
  {
   "cell_type": "code",
   "execution_count": null,
   "metadata": {},
   "outputs": [],
   "source": [
    "quarter_means = [q1_mean, q2_mean, q3_mean, q4_mean]"
   ]
  },
  {
   "cell_type": "code",
   "execution_count": null,
   "metadata": {},
   "outputs": [],
   "source": [
    "plt.plot(quarter_means)\n",
    "plt.xticks(ticks = [0,1,2,3],labels=['Q1', 'Q2', 'Q3', 'Q4'])\n",
    "plt.ylabel('Microgram/Cubic Meter')\n",
    "plt.xlabel('Quarter')\n",
    "plt.title('Average PM2.5 Concentrations Throughout the Year')\n",
    "plt.savefig('PM2.5 Concentrations Throughout the Year.png')"
   ]
  },
  {
   "cell_type": "markdown",
   "metadata": {},
   "source": [
    "# Conclusion\n",
    "Based on the visual of the box plots and the statistics associated with each quarter, it seems likely that there is an effect of time of year on PM2.5 concentrations in California, New York, and Texas. Comparing Q2 to Q3, the mean Microgram/Cubic meter concentrations of PM2.5 in Q3(14.72) is more than double the concentrations in Q2(7.1). This is not simply due to outliers. The upper quartile of Q2(8.91) is less than the lower quartile of Q3(10.02). Due to the magnitude of difference between these measurements, there is strong evidence that time of year may be a significant factor in PM2.5 concentration. As these states represent three distinct geographic locations in the United States, further research may indicate that this phenomenom is present across the United States. "
   ]
  },
  {
   "cell_type": "code",
   "execution_count": null,
   "metadata": {},
   "outputs": [],
   "source": []
  }
 ],
 "metadata": {
  "kernelspec": {
   "display_name": "Python 3",
   "language": "python",
   "name": "python3"
  },
  "language_info": {
   "codemirror_mode": {
    "name": "ipython",
    "version": 3
   },
   "file_extension": ".py",
   "mimetype": "text/x-python",
   "name": "python",
   "nbconvert_exporter": "python",
   "pygments_lexer": "ipython3",
   "version": "3.8.8"
  }
 },
 "nbformat": 4,
 "nbformat_minor": 4
}
