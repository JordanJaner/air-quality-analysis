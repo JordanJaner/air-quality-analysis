{
 "cells": [
  {
   "cell_type": "code",
   "execution_count": 17,
   "metadata": {},
   "outputs": [],
   "source": [
    "import requests\n",
    "import pandas as pd\n",
    "import matplotlib.pyplot as plt\n",
    "import numpy as np\n",
    "from time import sleep\n",
    "from project import api_key\n",
    "from project import email"
   ]
  },
  {
   "cell_type": "code",
   "execution_count": 18,
   "metadata": {
    "scrolled": true
   },
   "outputs": [],
   "source": [
    "list_state = ['48', '36', '06']\n",
    "df = pd.DataFrame()\n",
    "for state in list_state:\n",
    "    try:\n",
    "        url_quarterly = 'https://aqs.epa.gov/data/api/quarterlyData/byState?'\n",
    "        params = {'email': email,\n",
    "                 'key': api_key,\n",
    "                 'param': '88101',\n",
    "                 'bdate':'20200101',\n",
    "                 'edate':'20201201',\n",
    "                 'state': state}\n",
    "\n",
    "        response_quarterly = requests.get(url_quarterly, params=params).json()\n",
    "        data_quarterly =response_quarterly['Data']\n",
    "        int_df = pd.DataFrame(data_quarterly)\n",
    "        df = df.append(int_df)\n",
    "        sleep(5)\n",
    "    except:\n",
    "        print('Oops something went wrong')\n",
    "        pass"
   ]
  },
  {
   "cell_type": "code",
   "execution_count": 19,
   "metadata": {},
   "outputs": [
    {
     "name": "stdout",
     "output_type": "stream",
     "text": [
      "['state_code', 'county_code', 'site_number', 'parameter_code', 'poc', 'latitude', 'longitude', 'datum', 'parameter', 'sample_duration', 'sample_duration_code', 'sample_duration_type', 'pollutant_standard', 'year', 'quarter', 'units_of_measure', 'event_type', 'observation_count', 'observation_percent', 'arithmetic_mean', 'minimum_value', 'maximum_value', 'quarterly_criteria_met', 'actual_days_gt_std', 'estimated_days_gt_std', 'valid_samples', 'valid_day_count', 'scheduled_samples', 'percent_days', 'percent_one_value', 'monitoring_agency_code', 'monitoring_agency', 'local_site_name', 'address', 'state', 'county', 'city', 'tribal_code', 'tribal_land', 'cbsa_code', 'cbsa', 'date_of_last_change']\n"
     ]
    }
   ],
   "source": [
    "print(df.columns.tolist())"
   ]
  },
  {
   "cell_type": "code",
   "execution_count": 20,
   "metadata": {},
   "outputs": [],
   "source": [
    "df.to_csv('Air Quality.csv')"
   ]
  },
  {
   "cell_type": "code",
   "execution_count": 21,
   "metadata": {},
   "outputs": [],
   "source": [
    "df = df.loc[df['pollutant_standard']=='PM25 Annual 2012']"
   ]
  },
  {
   "cell_type": "code",
   "execution_count": 22,
   "metadata": {},
   "outputs": [],
   "source": [
    "df = df.loc[((df['event_type'] == 'No Events') | (df['event_type']=='Events Excluded'))]"
   ]
  },
  {
   "cell_type": "code",
   "execution_count": 23,
   "metadata": {},
   "outputs": [
    {
     "name": "stdout",
     "output_type": "stream",
     "text": [
      "['4' '3' '2' '1']\n"
     ]
    }
   ],
   "source": [
    "print(pd.unique(df['quarter']))"
   ]
  },
  {
   "cell_type": "code",
   "execution_count": 24,
   "metadata": {},
   "outputs": [
    {
     "name": "stdout",
     "output_type": "stream",
     "text": [
      "23       3.3791\n",
      "58       8.4989\n",
      "83       6.5571\n",
      "110      8.0899\n",
      "138      8.7119\n",
      "         ...   \n",
      "4556     4.9644\n",
      "4584     7.0791\n",
      "4612     4.3148\n",
      "4640     4.0934\n",
      "4668    11.3422\n",
      "Name: arithmetic_mean, Length: 231, dtype: float64\n"
     ]
    }
   ],
   "source": [
    "q1_df = df.loc[df['quarter']== '1']\n",
    "q2_df = df.loc[df['quarter']== '2']\n",
    "q3_df = df.loc[df['quarter']== '3']\n",
    "q4_df = df.loc[df['quarter']== '4']\n",
    "\n",
    "print(q1_df['arithmetic_mean'])"
   ]
  },
  {
   "cell_type": "code",
   "execution_count": 25,
   "metadata": {},
   "outputs": [
    {
     "data": {
      "text/plain": [
       "Text(0.5, 0, 'Quarter')"
      ]
     },
     "execution_count": 25,
     "metadata": {},
     "output_type": "execute_result"
    },
    {
     "data": {
      "image/png": "[encoded data removed]",
      "text/plain": [
       "<Figure size 720x432 with 1 Axes>"
      ]
     },
     "metadata": {
      "needs_background": "light"
     },
     "output_type": "display_data"
    }
   ],
   "source": [
    "q1_df = q1_df.dropna(subset=['arithmetic_mean'])\n",
    "q2_df = q2_df.dropna(subset=['arithmetic_mean'])\n",
    "\n",
    "data_to_plot = [q1_df['arithmetic_mean'], q2_df['arithmetic_mean'], q3_df['arithmetic_mean'], q4_df['arithmetic_mean']]\n",
    "plt.figure(figsize=(10, 6))\n",
    "box = plt.boxplot(data_to_plot,\n",
    "                  positions=[1, 2, 3, 4],\n",
    "                  labels=['Q1', 'Q2', 'Q3', 'Q4'])\n",
    "plt.title('PM2.5 Concentrations Across Quarters')\n",
    "plt.ylabel('Microgram/Cubic Meter')\n",
    "plt.xlabel('Quarter')\n"
   ]
  },
  {
   "cell_type": "code",
   "execution_count": 26,
   "metadata": {},
   "outputs": [
    {
     "data": {
      "text/plain": [
       "8.027275652173914"
      ]
     },
     "execution_count": 26,
     "metadata": {},
     "output_type": "execute_result"
    }
   ],
   "source": [
    "q1_mean = q1_df['arithmetic_mean'].mean()\n",
    "q1_mean"
   ]
  },
  {
   "cell_type": "code",
   "execution_count": 27,
   "metadata": {},
   "outputs": [
    {
     "data": {
      "text/plain": [
       "7.145295575221235"
      ]
     },
     "execution_count": 27,
     "metadata": {},
     "output_type": "execute_result"
    }
   ],
   "source": [
    "q2_mean = q2_df['arithmetic_mean'].mean()\n",
    "q2_mean"
   ]
  },
  {
   "cell_type": "code",
   "execution_count": 28,
   "metadata": {},
   "outputs": [],
   "source": [
    "q3_mean = q3_df['arithmetic_mean'].mean()"
   ]
  },
  {
   "cell_type": "code",
   "execution_count": 29,
   "metadata": {},
   "outputs": [],
   "source": [
    "q4_mean = q4_df['arithmetic_mean'].mean()"
   ]
  },
  {
   "cell_type": "code",
   "execution_count": 30,
   "metadata": {},
   "outputs": [],
   "source": [
    "quarter_means = [q1_mean, q2_mean, q3_mean, q4_mean]"
   ]
  },
  {
   "cell_type": "code",
   "execution_count": 31,
   "metadata": {},
   "outputs": [
    {
     "data": {
      "text/plain": [
       "Text(0.5, 1.0, 'Average PM2.5 Concentrations Throughout the Year')"
      ]
     },
     "execution_count": 31,
     "metadata": {},
     "output_type": "execute_result"
    },
    {
     "data": {
      "image/png": "[encoded data removed]",
      "text/plain": [
       "<Figure size 432x288 with 1 Axes>"
      ]
     },
     "metadata": {
      "needs_background": "light"
     },
     "output_type": "display_data"
    }
   ],
   "source": [
    "plt.plot(quarter_means)\n",
    "plt.xticks(ticks = [0,1,2,3],labels=['Q1', 'Q2', 'Q3', 'Q4'])\n",
    "plt.ylabel('Microgram/Cubic Meter')\n",
    "plt.xlabel('Quarter')\n",
    "plt.title('Average PM2.5 Concentrations Throughout the Year')"
   ]
  },
  {
   "cell_type": "code",
   "execution_count": null,
   "metadata": {},
   "outputs": [],
   "source": []
  }
 ],
 "metadata": {
  "kernelspec": {
   "display_name": "Python 3",
   "language": "python",
   "name": "python3"
  },
  "language_info": {
   "codemirror_mode": {
    "name": "ipython",
    "version": 3
   },
   "file_extension": ".py",
   "mimetype": "text/x-python",
   "name": "python",
   "nbconvert_exporter": "python",
   "pygments_lexer": "ipython3",
   "version": "3.8.8"
  }
 },
 "nbformat": 4,
 "nbformat_minor": 4
}
